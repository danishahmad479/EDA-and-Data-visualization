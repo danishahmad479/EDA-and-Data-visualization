{
 "cells": [
  {
   "cell_type": "markdown",
   "id": "24465384",
   "metadata": {},
   "source": [
    "# importing libraries"
   ]
  },
  {
   "cell_type": "code",
   "execution_count": null,
   "id": "3e1efae1",
   "metadata": {},
   "outputs": [],
   "source": [
    "import pandas as pd\n",
    "import numpy as np\n",
    "import seaborn as sns\n",
    "import matplotlib.pyplot as plt"
   ]
  },
  {
   "cell_type": "markdown",
   "id": "0b635cce",
   "metadata": {},
   "source": [
    "# reading"
   ]
  },
  {
   "cell_type": "code",
   "execution_count": 5,
   "id": "81ae255f",
   "metadata": {},
   "outputs": [],
   "source": [
    "df = pd.read_csv(\"credittoday.csv\")\n",
    "ds = pd.DataFrame(df)"
   ]
  },
  {
   "cell_type": "markdown",
   "id": "9ebb5fbb",
   "metadata": {},
   "source": [
    "# data"
   ]
  },
  {
   "cell_type": "code",
   "execution_count": 6,
   "id": "76a01ebb",
   "metadata": {},
   "outputs": [
    {
     "data": {
      "text/html": [
       "<div>\n",
       "<style scoped>\n",
       "    .dataframe tbody tr th:only-of-type {\n",
       "        vertical-align: middle;\n",
       "    }\n",
       "\n",
       "    .dataframe tbody tr th {\n",
       "        vertical-align: top;\n",
       "    }\n",
       "\n",
       "    .dataframe thead th {\n",
       "        text-align: right;\n",
       "    }\n",
       "</style>\n",
       "<table border=\"1\" class=\"dataframe\">\n",
       "  <thead>\n",
       "    <tr style=\"text-align: right;\">\n",
       "      <th></th>\n",
       "      <th>SeriousDlqin2yrs</th>\n",
       "      <th>age</th>\n",
       "      <th>NumberOfTime30-59DaysPastDueNotWorse</th>\n",
       "      <th>DebtRatio</th>\n",
       "      <th>NumberOfTimes90DaysLate</th>\n",
       "      <th>NumberOfTime60-89DaysPastDueNotWorse</th>\n",
       "      <th>MonthlyIncome</th>\n",
       "      <th>NumberOfDependents</th>\n",
       "    </tr>\n",
       "  </thead>\n",
       "  <tbody>\n",
       "    <tr>\n",
       "      <th>0</th>\n",
       "      <td>0</td>\n",
       "      <td>64</td>\n",
       "      <td>0</td>\n",
       "      <td>0.249908</td>\n",
       "      <td>0</td>\n",
       "      <td>0</td>\n",
       "      <td>8158.0</td>\n",
       "      <td>0.0</td>\n",
       "    </tr>\n",
       "    <tr>\n",
       "      <th>1</th>\n",
       "      <td>0</td>\n",
       "      <td>58</td>\n",
       "      <td>0</td>\n",
       "      <td>3870.000000</td>\n",
       "      <td>0</td>\n",
       "      <td>0</td>\n",
       "      <td>NaN</td>\n",
       "      <td>0.0</td>\n",
       "    </tr>\n",
       "    <tr>\n",
       "      <th>2</th>\n",
       "      <td>0</td>\n",
       "      <td>41</td>\n",
       "      <td>0</td>\n",
       "      <td>0.456127</td>\n",
       "      <td>0</td>\n",
       "      <td>0</td>\n",
       "      <td>6666.0</td>\n",
       "      <td>0.0</td>\n",
       "    </tr>\n",
       "    <tr>\n",
       "      <th>3</th>\n",
       "      <td>0</td>\n",
       "      <td>43</td>\n",
       "      <td>0</td>\n",
       "      <td>0.000190</td>\n",
       "      <td>0</td>\n",
       "      <td>0</td>\n",
       "      <td>10500.0</td>\n",
       "      <td>2.0</td>\n",
       "    </tr>\n",
       "    <tr>\n",
       "      <th>4</th>\n",
       "      <td>1</td>\n",
       "      <td>49</td>\n",
       "      <td>0</td>\n",
       "      <td>0.271820</td>\n",
       "      <td>0</td>\n",
       "      <td>0</td>\n",
       "      <td>400.0</td>\n",
       "      <td>0.0</td>\n",
       "    </tr>\n",
       "    <tr>\n",
       "      <th>...</th>\n",
       "      <td>...</td>\n",
       "      <td>...</td>\n",
       "      <td>...</td>\n",
       "      <td>...</td>\n",
       "      <td>...</td>\n",
       "      <td>...</td>\n",
       "      <td>...</td>\n",
       "      <td>...</td>\n",
       "    </tr>\n",
       "    <tr>\n",
       "      <th>45058</th>\n",
       "      <td>1</td>\n",
       "      <td>31</td>\n",
       "      <td>0</td>\n",
       "      <td>0.824725</td>\n",
       "      <td>0</td>\n",
       "      <td>0</td>\n",
       "      <td>3000.0</td>\n",
       "      <td>1.0</td>\n",
       "    </tr>\n",
       "    <tr>\n",
       "      <th>45059</th>\n",
       "      <td>0</td>\n",
       "      <td>49</td>\n",
       "      <td>0</td>\n",
       "      <td>6530.000000</td>\n",
       "      <td>0</td>\n",
       "      <td>0</td>\n",
       "      <td>0.0</td>\n",
       "      <td>5.0</td>\n",
       "    </tr>\n",
       "    <tr>\n",
       "      <th>45060</th>\n",
       "      <td>1</td>\n",
       "      <td>38</td>\n",
       "      <td>0</td>\n",
       "      <td>0.475841</td>\n",
       "      <td>0</td>\n",
       "      <td>0</td>\n",
       "      <td>3000.0</td>\n",
       "      <td>2.0</td>\n",
       "    </tr>\n",
       "    <tr>\n",
       "      <th>45061</th>\n",
       "      <td>0</td>\n",
       "      <td>47</td>\n",
       "      <td>1</td>\n",
       "      <td>0.485198</td>\n",
       "      <td>0</td>\n",
       "      <td>0</td>\n",
       "      <td>11720.0</td>\n",
       "      <td>5.0</td>\n",
       "    </tr>\n",
       "    <tr>\n",
       "      <th>45062</th>\n",
       "      <td>1</td>\n",
       "      <td>45</td>\n",
       "      <td>2</td>\n",
       "      <td>0.802982</td>\n",
       "      <td>0</td>\n",
       "      <td>0</td>\n",
       "      <td>9120.0</td>\n",
       "      <td>2.0</td>\n",
       "    </tr>\n",
       "  </tbody>\n",
       "</table>\n",
       "<p>45063 rows × 8 columns</p>\n",
       "</div>"
      ],
      "text/plain": [
       "       SeriousDlqin2yrs  age  NumberOfTime30-59DaysPastDueNotWorse  \\\n",
       "0                     0   64                                     0   \n",
       "1                     0   58                                     0   \n",
       "2                     0   41                                     0   \n",
       "3                     0   43                                     0   \n",
       "4                     1   49                                     0   \n",
       "...                 ...  ...                                   ...   \n",
       "45058                 1   31                                     0   \n",
       "45059                 0   49                                     0   \n",
       "45060                 1   38                                     0   \n",
       "45061                 0   47                                     1   \n",
       "45062                 1   45                                     2   \n",
       "\n",
       "         DebtRatio  NumberOfTimes90DaysLate  \\\n",
       "0         0.249908                        0   \n",
       "1      3870.000000                        0   \n",
       "2         0.456127                        0   \n",
       "3         0.000190                        0   \n",
       "4         0.271820                        0   \n",
       "...            ...                      ...   \n",
       "45058     0.824725                        0   \n",
       "45059  6530.000000                        0   \n",
       "45060     0.475841                        0   \n",
       "45061     0.485198                        0   \n",
       "45062     0.802982                        0   \n",
       "\n",
       "       NumberOfTime60-89DaysPastDueNotWorse  MonthlyIncome  NumberOfDependents  \n",
       "0                                         0         8158.0                 0.0  \n",
       "1                                         0            NaN                 0.0  \n",
       "2                                         0         6666.0                 0.0  \n",
       "3                                         0        10500.0                 2.0  \n",
       "4                                         0          400.0                 0.0  \n",
       "...                                     ...            ...                 ...  \n",
       "45058                                     0         3000.0                 1.0  \n",
       "45059                                     0            0.0                 5.0  \n",
       "45060                                     0         3000.0                 2.0  \n",
       "45061                                     0        11720.0                 5.0  \n",
       "45062                                     0         9120.0                 2.0  \n",
       "\n",
       "[45063 rows x 8 columns]"
      ]
     },
     "execution_count": 6,
     "metadata": {},
     "output_type": "execute_result"
    }
   ],
   "source": [
    "ds"
   ]
  },
  {
   "cell_type": "code",
   "execution_count": null,
   "id": "1d9639d3",
   "metadata": {},
   "outputs": [],
   "source": [
    "## Data description"
   ]
  },
  {
   "cell_type": "code",
   "execution_count": 8,
   "id": "4d1adf0a",
   "metadata": {},
   "outputs": [
    {
     "data": {
      "text/html": [
       "<div>\n",
       "<style scoped>\n",
       "    .dataframe tbody tr th:only-of-type {\n",
       "        vertical-align: middle;\n",
       "    }\n",
       "\n",
       "    .dataframe tbody tr th {\n",
       "        vertical-align: top;\n",
       "    }\n",
       "\n",
       "    .dataframe thead th {\n",
       "        text-align: right;\n",
       "    }\n",
       "</style>\n",
       "<table border=\"1\" class=\"dataframe\">\n",
       "  <thead>\n",
       "    <tr style=\"text-align: right;\">\n",
       "      <th></th>\n",
       "      <th>SeriousDlqin2yrs</th>\n",
       "      <th>age</th>\n",
       "      <th>NumberOfTime30-59DaysPastDueNotWorse</th>\n",
       "      <th>DebtRatio</th>\n",
       "      <th>NumberOfTimes90DaysLate</th>\n",
       "      <th>NumberOfTime60-89DaysPastDueNotWorse</th>\n",
       "      <th>MonthlyIncome</th>\n",
       "      <th>NumberOfDependents</th>\n",
       "    </tr>\n",
       "  </thead>\n",
       "  <tbody>\n",
       "    <tr>\n",
       "      <th>count</th>\n",
       "      <td>45063.000000</td>\n",
       "      <td>45063.000000</td>\n",
       "      <td>45063.000000</td>\n",
       "      <td>45063.000000</td>\n",
       "      <td>45063.000000</td>\n",
       "      <td>45063.000000</td>\n",
       "      <td>3.642000e+04</td>\n",
       "      <td>43946.000000</td>\n",
       "    </tr>\n",
       "    <tr>\n",
       "      <th>mean</th>\n",
       "      <td>0.222489</td>\n",
       "      <td>51.210949</td>\n",
       "      <td>0.750993</td>\n",
       "      <td>352.062688</td>\n",
       "      <td>0.570712</td>\n",
       "      <td>0.505870</td>\n",
       "      <td>6.452263e+03</td>\n",
       "      <td>0.789628</td>\n",
       "    </tr>\n",
       "    <tr>\n",
       "      <th>std</th>\n",
       "      <td>0.415922</td>\n",
       "      <td>14.651533</td>\n",
       "      <td>6.184521</td>\n",
       "      <td>2467.556358</td>\n",
       "      <td>6.173106</td>\n",
       "      <td>6.153609</td>\n",
       "      <td>1.263817e+04</td>\n",
       "      <td>1.130813</td>\n",
       "    </tr>\n",
       "    <tr>\n",
       "      <th>min</th>\n",
       "      <td>0.000000</td>\n",
       "      <td>21.000000</td>\n",
       "      <td>0.000000</td>\n",
       "      <td>0.000000</td>\n",
       "      <td>0.000000</td>\n",
       "      <td>0.000000</td>\n",
       "      <td>0.000000e+00</td>\n",
       "      <td>0.000000</td>\n",
       "    </tr>\n",
       "    <tr>\n",
       "      <th>25%</th>\n",
       "      <td>0.000000</td>\n",
       "      <td>40.000000</td>\n",
       "      <td>0.000000</td>\n",
       "      <td>0.176373</td>\n",
       "      <td>0.000000</td>\n",
       "      <td>0.000000</td>\n",
       "      <td>3.286000e+03</td>\n",
       "      <td>0.000000</td>\n",
       "    </tr>\n",
       "    <tr>\n",
       "      <th>50%</th>\n",
       "      <td>0.000000</td>\n",
       "      <td>51.000000</td>\n",
       "      <td>0.000000</td>\n",
       "      <td>0.373949</td>\n",
       "      <td>0.000000</td>\n",
       "      <td>0.000000</td>\n",
       "      <td>5.166000e+03</td>\n",
       "      <td>0.000000</td>\n",
       "    </tr>\n",
       "    <tr>\n",
       "      <th>75%</th>\n",
       "      <td>0.000000</td>\n",
       "      <td>62.000000</td>\n",
       "      <td>0.000000</td>\n",
       "      <td>0.857027</td>\n",
       "      <td>0.000000</td>\n",
       "      <td>0.000000</td>\n",
       "      <td>8.000000e+03</td>\n",
       "      <td>1.000000</td>\n",
       "    </tr>\n",
       "    <tr>\n",
       "      <th>max</th>\n",
       "      <td>1.000000</td>\n",
       "      <td>107.000000</td>\n",
       "      <td>98.000000</td>\n",
       "      <td>326442.000000</td>\n",
       "      <td>98.000000</td>\n",
       "      <td>98.000000</td>\n",
       "      <td>1.794060e+06</td>\n",
       "      <td>10.000000</td>\n",
       "    </tr>\n",
       "  </tbody>\n",
       "</table>\n",
       "</div>"
      ],
      "text/plain": [
       "       SeriousDlqin2yrs           age  NumberOfTime30-59DaysPastDueNotWorse  \\\n",
       "count      45063.000000  45063.000000                          45063.000000   \n",
       "mean           0.222489     51.210949                              0.750993   \n",
       "std            0.415922     14.651533                              6.184521   \n",
       "min            0.000000     21.000000                              0.000000   \n",
       "25%            0.000000     40.000000                              0.000000   \n",
       "50%            0.000000     51.000000                              0.000000   \n",
       "75%            0.000000     62.000000                              0.000000   \n",
       "max            1.000000    107.000000                             98.000000   \n",
       "\n",
       "           DebtRatio  NumberOfTimes90DaysLate  \\\n",
       "count   45063.000000             45063.000000   \n",
       "mean      352.062688                 0.570712   \n",
       "std      2467.556358                 6.173106   \n",
       "min         0.000000                 0.000000   \n",
       "25%         0.176373                 0.000000   \n",
       "50%         0.373949                 0.000000   \n",
       "75%         0.857027                 0.000000   \n",
       "max    326442.000000                98.000000   \n",
       "\n",
       "       NumberOfTime60-89DaysPastDueNotWorse  MonthlyIncome  NumberOfDependents  \n",
       "count                          45063.000000   3.642000e+04        43946.000000  \n",
       "mean                               0.505870   6.452263e+03            0.789628  \n",
       "std                                6.153609   1.263817e+04            1.130813  \n",
       "min                                0.000000   0.000000e+00            0.000000  \n",
       "25%                                0.000000   3.286000e+03            0.000000  \n",
       "50%                                0.000000   5.166000e+03            0.000000  \n",
       "75%                                0.000000   8.000000e+03            1.000000  \n",
       "max                               98.000000   1.794060e+06           10.000000  "
      ]
     },
     "execution_count": 8,
     "metadata": {},
     "output_type": "execute_result"
    }
   ],
   "source": [
    "ds.describe()"
   ]
  },
  {
   "cell_type": "code",
   "execution_count": null,
   "id": "3a402b74",
   "metadata": {},
   "outputs": [],
   "source": [
    "##Data inf"
   ]
  },
  {
   "cell_type": "code",
   "execution_count": 9,
   "id": "bb1233f5",
   "metadata": {},
   "outputs": [
    {
     "name": "stdout",
     "output_type": "stream",
     "text": [
      "<class 'pandas.core.frame.DataFrame'>\n",
      "RangeIndex: 45063 entries, 0 to 45062\n",
      "Data columns (total 8 columns):\n",
      " #   Column                                Non-Null Count  Dtype  \n",
      "---  ------                                --------------  -----  \n",
      " 0   SeriousDlqin2yrs                      45063 non-null  int64  \n",
      " 1   age                                   45063 non-null  int64  \n",
      " 2   NumberOfTime30-59DaysPastDueNotWorse  45063 non-null  int64  \n",
      " 3   DebtRatio                             45063 non-null  float64\n",
      " 4   NumberOfTimes90DaysLate               45063 non-null  int64  \n",
      " 5   NumberOfTime60-89DaysPastDueNotWorse  45063 non-null  int64  \n",
      " 6   MonthlyIncome                         36420 non-null  float64\n",
      " 7   NumberOfDependents                    43946 non-null  float64\n",
      "dtypes: float64(3), int64(5)\n",
      "memory usage: 2.8 MB\n"
     ]
    }
   ],
   "source": [
    "ds.info()"
   ]
  },
  {
   "cell_type": "code",
   "execution_count": 19,
   "id": "e101708a",
   "metadata": {},
   "outputs": [],
   "source": [
    "ds1 = ds.head(100)\n",
    "f1=[\"DebtRatio\" ,'NumberOfTime30-59DaysPastDueNotWorse']"
   ]
  },
  {
   "cell_type": "code",
   "execution_count": 20,
   "id": "062e46d5",
   "metadata": {},
   "outputs": [
    {
     "data": {
      "text/plain": [
       "['DebtRatio', 'NumberOfTime30-59DaysPastDueNotWorse']"
      ]
     },
     "execution_count": 20,
     "metadata": {},
     "output_type": "execute_result"
    }
   ],
   "source": [
    "f1"
   ]
  },
  {
   "cell_type": "code",
   "execution_count": 57,
   "id": "1fc01565",
   "metadata": {},
   "outputs": [
    {
     "data": {
      "text/plain": [
       "array([[<AxesSubplot:title={'center':'MonthlyIncome'}>,\n",
       "        <AxesSubplot:title={'center':'NumberOfDependents'}>]],\n",
       "      dtype=object)"
      ]
     },
     "execution_count": 57,
     "metadata": {},
     "output_type": "execute_result"
    },
    {
     "data": {
      "image/png": "[encoded data removed]",
      "text/plain": [
       "<Figure size 864x288 with 2 Axes>"
      ]
     },
     "metadata": {
      "needs_background": "light"
     },
     "output_type": "display_data"
    },
    {
     "data": {
      "image/png": "[encoded data removed]",
      "text/plain": [
       "<Figure size 864x288 with 2 Axes>"
      ]
     },
     "metadata": {
      "needs_background": "light"
     },
     "output_type": "display_data"
    },
    {
     "data": {
      "image/png": "[encoded data removed]",
      "text/plain": [
       "<Figure size 864x288 with 2 Axes>"
      ]
     },
     "metadata": {
      "needs_background": "light"
     },
     "output_type": "display_data"
    }
   ],
   "source": [
    "ds1[f1].hist(figsize=(12,4))\n",
    "\n",
    "\n",
    "f2 = [\"NumberOfTimes90DaysLate\",\"NumberOfTime60-89DaysPastDueNotWorse\"]\n",
    "ds1[f2].hist(figsize=(12,4))\n",
    "\n",
    "f3=['MonthlyIncome','NumberOfDependents']\n",
    "ds1[f3].hist(figsize=(12,4))"
   ]
  },
  {
   "cell_type": "code",
   "execution_count": null,
   "id": "4f2a336d",
   "metadata": {},
   "outputs": [],
   "source": []
  },
  {
   "cell_type": "code",
   "execution_count": 28,
   "id": "ad632b3c",
   "metadata": {},
   "outputs": [
    {
     "data": {
      "text/plain": [
       "array([[<AxesSubplot:title={'center':'MonthlyIncome'}>,\n",
       "        <AxesSubplot:title={'center':'NumberOfDependents'}>]],\n",
       "      dtype=object)"
      ]
     },
     "execution_count": 28,
     "metadata": {},
     "output_type": "execute_result"
    },
    {
     "data": {
      "image/png": "[encoded data removed]",
      "text/plain": [
       "<Figure size 864x288 with 2 Axes>"
      ]
     },
     "metadata": {
      "needs_background": "light"
     },
     "output_type": "display_data"
    }
   ],
   "source": []
  },
  {
   "cell_type": "code",
   "execution_count": 29,
   "id": "41271fcb",
   "metadata": {},
   "outputs": [],
   "source": [
    "#Scatter Plot to check how both are correlated\n"
   ]
  },
  {
   "cell_type": "code",
   "execution_count": 32,
   "id": "57c047f3",
   "metadata": {},
   "outputs": [
    {
     "data": {
      "text/plain": [
       "Text(0, 0.5, 'NumberOfDependents')"
      ]
     },
     "execution_count": 32,
     "metadata": {},
     "output_type": "execute_result"
    },
    {
     "data": {
      "image/png": "[encoded data removed]",
      "text/plain": [
       "<Figure size 432x288 with 1 Axes>"
      ]
     },
     "metadata": {
      "needs_background": "light"
     },
     "output_type": "display_data"
    }
   ],
   "source": [
    "plt.scatter(ds1['MonthlyIncome'],ds1['NumberOfDependents'])\n",
    "plt.xlabel('MonthlyIncome')\n",
    "plt.ylabel('NumberOfDependents')"
   ]
  },
  {
   "cell_type": "code",
   "execution_count": 37,
   "id": "4297eccc",
   "metadata": {},
   "outputs": [
    {
     "data": {
      "text/plain": [
       "<matplotlib.collections.PathCollection at 0x2cb9f98a4f0>"
      ]
     },
     "execution_count": 37,
     "metadata": {},
     "output_type": "execute_result"
    },
    {
     "data": {
      "image/png": "[encoded data removed]",
      "text/plain": [
       "<Figure size 432x288 with 1 Axes>"
      ]
     },
     "metadata": {
      "needs_background": "light"
     },
     "output_type": "display_data"
    }
   ],
   "source": [
    "plt.scatter(ds1['MonthlyIncome'],ds1['NumberOfDependents'])"
   ]
  },
  {
   "cell_type": "code",
   "execution_count": 40,
   "id": "79e2cdc0",
   "metadata": {},
   "outputs": [
    {
     "data": {
      "text/plain": [
       "Text(0, 0.5, 'NumberOfTime30-59DaysPastDueNotWorse')"
      ]
     },
     "execution_count": 40,
     "metadata": {},
     "output_type": "execute_result"
    },
    {
     "data": {
      "image/png": "[encoded data removed]",
      "text/plain": [
       "<Figure size 432x288 with 1 Axes>"
      ]
     },
     "metadata": {
      "needs_background": "light"
     },
     "output_type": "display_data"
    }
   ],
   "source": [
    "plt.scatter(ds1['MonthlyIncome'],ds1['NumberOfTime30-59DaysPastDueNotWorse'])\n",
    "plt.xlabel('MonthlyIncome')\n",
    "plt.ylabel('NumberOfTime30-59DaysPastDueNotWorse')"
   ]
  },
  {
   "cell_type": "code",
   "execution_count": 42,
   "id": "82a4d258",
   "metadata": {},
   "outputs": [
    {
     "data": {
      "text/plain": [
       "Text(0, 0.5, 'NumberOfTime60-89DaysPastDueNotWorse')"
      ]
     },
     "execution_count": 42,
     "metadata": {},
     "output_type": "execute_result"
    },
    {
     "data": {
      "image/png": "[encoded data removed]",
      "text/plain": [
       "<Figure size 432x288 with 1 Axes>"
      ]
     },
     "metadata": {
      "needs_background": "light"
     },
     "output_type": "display_data"
    }
   ],
   "source": [
    "plt.scatter(ds1[\"MonthlyIncome\"],ds1[\"NumberOfTime60-89DaysPastDueNotWorse\"])\n",
    "plt.xlabel(\"MonthlyIncome\")\n",
    "plt.ylabel(\"NumberOfTime60-89DaysPastDueNotWorse\")"
   ]
  },
  {
   "cell_type": "code",
   "execution_count": 44,
   "id": "5df61022",
   "metadata": {},
   "outputs": [
    {
     "data": {
      "text/plain": [
       "SeriousDlqin2yrs                           0\n",
       "age                                        0\n",
       "NumberOfTime30-59DaysPastDueNotWorse       0\n",
       "DebtRatio                                  0\n",
       "NumberOfTimes90DaysLate                    0\n",
       "NumberOfTime60-89DaysPastDueNotWorse       0\n",
       "MonthlyIncome                           8643\n",
       "NumberOfDependents                      1117\n",
       "dtype: int64"
      ]
     },
     "execution_count": 44,
     "metadata": {},
     "output_type": "execute_result"
    }
   ],
   "source": [
    "ds.isnull().sum()"
   ]
  },
  {
   "cell_type": "code",
   "execution_count": 45,
   "id": "a0715466",
   "metadata": {},
   "outputs": [
    {
     "data": {
      "text/plain": [
       "0         8158.0\n",
       "1            NaN\n",
       "2         6666.0\n",
       "3        10500.0\n",
       "4          400.0\n",
       "          ...   \n",
       "45058     3000.0\n",
       "45059        0.0\n",
       "45060     3000.0\n",
       "45061    11720.0\n",
       "45062     9120.0\n",
       "Name: MonthlyIncome, Length: 45063, dtype: float64"
      ]
     },
     "execution_count": 45,
     "metadata": {},
     "output_type": "execute_result"
    }
   ],
   "source": [
    "ds[\"MonthlyIncome\"]"
   ]
  },
  {
   "cell_type": "code",
   "execution_count": 46,
   "id": "21623120",
   "metadata": {},
   "outputs": [],
   "source": [
    "s =ds[\"MonthlyIncome\"].mean() "
   ]
  },
  {
   "cell_type": "code",
   "execution_count": 47,
   "id": "fd3db40e",
   "metadata": {},
   "outputs": [
    {
     "data": {
      "text/plain": [
       "6452.263399231191"
      ]
     },
     "execution_count": 47,
     "metadata": {},
     "output_type": "execute_result"
    }
   ],
   "source": [
    "s"
   ]
  },
  {
   "cell_type": "code",
   "execution_count": 48,
   "id": "fbd17d34",
   "metadata": {},
   "outputs": [],
   "source": [
    "ds[\"MonthlyIncome\"] = ds[\"MonthlyIncome\"].fillna(s)"
   ]
  },
  {
   "cell_type": "code",
   "execution_count": 49,
   "id": "233e417e",
   "metadata": {},
   "outputs": [
    {
     "data": {
      "text/plain": [
       "0         8158.000000\n",
       "1         6452.263399\n",
       "2         6666.000000\n",
       "3        10500.000000\n",
       "4          400.000000\n",
       "             ...     \n",
       "45058     3000.000000\n",
       "45059        0.000000\n",
       "45060     3000.000000\n",
       "45061    11720.000000\n",
       "45062     9120.000000\n",
       "Name: MonthlyIncome, Length: 45063, dtype: float64"
      ]
     },
     "execution_count": 49,
     "metadata": {},
     "output_type": "execute_result"
    }
   ],
   "source": [
    "ds[\"MonthlyIncome\"]"
   ]
  },
  {
   "cell_type": "code",
   "execution_count": 51,
   "id": "a6639150",
   "metadata": {},
   "outputs": [
    {
     "data": {
      "text/plain": [
       "SeriousDlqin2yrs                           0\n",
       "age                                        0\n",
       "NumberOfTime30-59DaysPastDueNotWorse       0\n",
       "DebtRatio                                  0\n",
       "NumberOfTimes90DaysLate                    0\n",
       "NumberOfTime60-89DaysPastDueNotWorse       0\n",
       "MonthlyIncome                              0\n",
       "NumberOfDependents                      1117\n",
       "dtype: int64"
      ]
     },
     "execution_count": 51,
     "metadata": {},
     "output_type": "execute_result"
    }
   ],
   "source": [
    "ds.isnull().sum()"
   ]
  },
  {
   "cell_type": "code",
   "execution_count": 52,
   "id": "a72a2ac6",
   "metadata": {},
   "outputs": [],
   "source": [
    "c=ds['NumberOfDependents'].mean()"
   ]
  },
  {
   "cell_type": "code",
   "execution_count": 53,
   "id": "db4bbdb5",
   "metadata": {},
   "outputs": [],
   "source": [
    "ds['NumberOfDependents'] = ds['NumberOfDependents'].fillna(c)"
   ]
  },
  {
   "cell_type": "code",
   "execution_count": 54,
   "id": "5d46b575",
   "metadata": {},
   "outputs": [
    {
     "data": {
      "text/plain": [
       "0        0.0\n",
       "1        0.0\n",
       "2        0.0\n",
       "3        2.0\n",
       "4        0.0\n",
       "        ... \n",
       "45058    1.0\n",
       "45059    5.0\n",
       "45060    2.0\n",
       "45061    5.0\n",
       "45062    2.0\n",
       "Name: NumberOfDependents, Length: 45063, dtype: float64"
      ]
     },
     "execution_count": 54,
     "metadata": {},
     "output_type": "execute_result"
    }
   ],
   "source": [
    "ds['NumberOfDependents']"
   ]
  },
  {
   "cell_type": "markdown",
   "id": "c2c5708a",
   "metadata": {},
   "source": [
    "# Histogram Plot After Cleaning the Data\n"
   ]
  },
  {
   "cell_type": "code",
   "execution_count": 55,
   "id": "f664fe66",
   "metadata": {},
   "outputs": [
    {
     "data": {
      "text/plain": [
       "array([[<AxesSubplot:title={'center':'MonthlyIncome'}>,\n",
       "        <AxesSubplot:title={'center':'NumberOfDependents'}>]],\n",
       "      dtype=object)"
      ]
     },
     "execution_count": 55,
     "metadata": {},
     "output_type": "execute_result"
    },
    {
     "data": {
      "image/png": "[encoded data removed]",
      "text/plain": [
       "<Figure size 864x288 with 2 Axes>"
      ]
     },
     "metadata": {
      "needs_background": "light"
     },
     "output_type": "display_data"
    },
    {
     "data": {
      "image/png": "[encoded data removed]",
      "text/plain": [
       "<Figure size 864x288 with 2 Axes>"
      ]
     },
     "metadata": {
      "needs_background": "light"
     },
     "output_type": "display_data"
    },
    {
     "data": {
      "image/png": "[encoded data removed]",
      "text/plain": [
       "<Figure size 864x288 with 2 Axes>"
      ]
     },
     "metadata": {
      "needs_background": "light"
     },
     "output_type": "display_data"
    }
   ],
   "source": [
    "ds1=ds.head(100)\n",
    "f1=['DebtRatio','NumberOfTime30-59DaysPastDueNotWorse']\n",
    "ds1[f1].hist(figsize=(12,4))\n",
    "f2=['NumberOfTimes90DaysLate','NumberOfTime60-89DaysPastDueNotWorse']\n",
    "ds1[f2].hist(figsize=(12,4))\n",
    "f3=['MonthlyIncome','NumberOfDependents']\n",
    "ds1[f3].hist(figsize=(12,4))"
   ]
  },
  {
   "cell_type": "code",
   "execution_count": 59,
   "id": "b3046cb7",
   "metadata": {},
   "outputs": [
    {
     "data": {
      "text/html": [
       "<div>\n",
       "<style scoped>\n",
       "    .dataframe tbody tr th:only-of-type {\n",
       "        vertical-align: middle;\n",
       "    }\n",
       "\n",
       "    .dataframe tbody tr th {\n",
       "        vertical-align: top;\n",
       "    }\n",
       "\n",
       "    .dataframe thead th {\n",
       "        text-align: right;\n",
       "    }\n",
       "</style>\n",
       "<table border=\"1\" class=\"dataframe\">\n",
       "  <thead>\n",
       "    <tr style=\"text-align: right;\">\n",
       "      <th></th>\n",
       "      <th>SeriousDlqin2yrs</th>\n",
       "      <th>age</th>\n",
       "      <th>NumberOfTime30-59DaysPastDueNotWorse</th>\n",
       "      <th>DebtRatio</th>\n",
       "      <th>NumberOfTimes90DaysLate</th>\n",
       "      <th>NumberOfTime60-89DaysPastDueNotWorse</th>\n",
       "      <th>MonthlyIncome</th>\n",
       "      <th>NumberOfDependents</th>\n",
       "    </tr>\n",
       "  </thead>\n",
       "  <tbody>\n",
       "    <tr>\n",
       "      <th>0</th>\n",
       "      <td>0</td>\n",
       "      <td>64</td>\n",
       "      <td>0</td>\n",
       "      <td>0.249908</td>\n",
       "      <td>0</td>\n",
       "      <td>0</td>\n",
       "      <td>8158.000000</td>\n",
       "      <td>0.0</td>\n",
       "    </tr>\n",
       "    <tr>\n",
       "      <th>1</th>\n",
       "      <td>0</td>\n",
       "      <td>58</td>\n",
       "      <td>0</td>\n",
       "      <td>3870.000000</td>\n",
       "      <td>0</td>\n",
       "      <td>0</td>\n",
       "      <td>6452.263399</td>\n",
       "      <td>0.0</td>\n",
       "    </tr>\n",
       "    <tr>\n",
       "      <th>2</th>\n",
       "      <td>0</td>\n",
       "      <td>41</td>\n",
       "      <td>0</td>\n",
       "      <td>0.456127</td>\n",
       "      <td>0</td>\n",
       "      <td>0</td>\n",
       "      <td>6666.000000</td>\n",
       "      <td>0.0</td>\n",
       "    </tr>\n",
       "    <tr>\n",
       "      <th>3</th>\n",
       "      <td>0</td>\n",
       "      <td>43</td>\n",
       "      <td>0</td>\n",
       "      <td>0.000190</td>\n",
       "      <td>0</td>\n",
       "      <td>0</td>\n",
       "      <td>10500.000000</td>\n",
       "      <td>2.0</td>\n",
       "    </tr>\n",
       "    <tr>\n",
       "      <th>4</th>\n",
       "      <td>1</td>\n",
       "      <td>49</td>\n",
       "      <td>0</td>\n",
       "      <td>0.271820</td>\n",
       "      <td>0</td>\n",
       "      <td>0</td>\n",
       "      <td>400.000000</td>\n",
       "      <td>0.0</td>\n",
       "    </tr>\n",
       "    <tr>\n",
       "      <th>...</th>\n",
       "      <td>...</td>\n",
       "      <td>...</td>\n",
       "      <td>...</td>\n",
       "      <td>...</td>\n",
       "      <td>...</td>\n",
       "      <td>...</td>\n",
       "      <td>...</td>\n",
       "      <td>...</td>\n",
       "    </tr>\n",
       "    <tr>\n",
       "      <th>45058</th>\n",
       "      <td>1</td>\n",
       "      <td>31</td>\n",
       "      <td>0</td>\n",
       "      <td>0.824725</td>\n",
       "      <td>0</td>\n",
       "      <td>0</td>\n",
       "      <td>3000.000000</td>\n",
       "      <td>1.0</td>\n",
       "    </tr>\n",
       "    <tr>\n",
       "      <th>45059</th>\n",
       "      <td>0</td>\n",
       "      <td>49</td>\n",
       "      <td>0</td>\n",
       "      <td>6530.000000</td>\n",
       "      <td>0</td>\n",
       "      <td>0</td>\n",
       "      <td>0.000000</td>\n",
       "      <td>5.0</td>\n",
       "    </tr>\n",
       "    <tr>\n",
       "      <th>45060</th>\n",
       "      <td>1</td>\n",
       "      <td>38</td>\n",
       "      <td>0</td>\n",
       "      <td>0.475841</td>\n",
       "      <td>0</td>\n",
       "      <td>0</td>\n",
       "      <td>3000.000000</td>\n",
       "      <td>2.0</td>\n",
       "    </tr>\n",
       "    <tr>\n",
       "      <th>45061</th>\n",
       "      <td>0</td>\n",
       "      <td>47</td>\n",
       "      <td>1</td>\n",
       "      <td>0.485198</td>\n",
       "      <td>0</td>\n",
       "      <td>0</td>\n",
       "      <td>11720.000000</td>\n",
       "      <td>5.0</td>\n",
       "    </tr>\n",
       "    <tr>\n",
       "      <th>45062</th>\n",
       "      <td>1</td>\n",
       "      <td>45</td>\n",
       "      <td>2</td>\n",
       "      <td>0.802982</td>\n",
       "      <td>0</td>\n",
       "      <td>0</td>\n",
       "      <td>9120.000000</td>\n",
       "      <td>2.0</td>\n",
       "    </tr>\n",
       "  </tbody>\n",
       "</table>\n",
       "<p>45063 rows × 8 columns</p>\n",
       "</div>"
      ],
      "text/plain": [
       "       SeriousDlqin2yrs  age  NumberOfTime30-59DaysPastDueNotWorse  \\\n",
       "0                     0   64                                     0   \n",
       "1                     0   58                                     0   \n",
       "2                     0   41                                     0   \n",
       "3                     0   43                                     0   \n",
       "4                     1   49                                     0   \n",
       "...                 ...  ...                                   ...   \n",
       "45058                 1   31                                     0   \n",
       "45059                 0   49                                     0   \n",
       "45060                 1   38                                     0   \n",
       "45061                 0   47                                     1   \n",
       "45062                 1   45                                     2   \n",
       "\n",
       "         DebtRatio  NumberOfTimes90DaysLate  \\\n",
       "0         0.249908                        0   \n",
       "1      3870.000000                        0   \n",
       "2         0.456127                        0   \n",
       "3         0.000190                        0   \n",
       "4         0.271820                        0   \n",
       "...            ...                      ...   \n",
       "45058     0.824725                        0   \n",
       "45059  6530.000000                        0   \n",
       "45060     0.475841                        0   \n",
       "45061     0.485198                        0   \n",
       "45062     0.802982                        0   \n",
       "\n",
       "       NumberOfTime60-89DaysPastDueNotWorse  MonthlyIncome  NumberOfDependents  \n",
       "0                                         0    8158.000000                 0.0  \n",
       "1                                         0    6452.263399                 0.0  \n",
       "2                                         0    6666.000000                 0.0  \n",
       "3                                         0   10500.000000                 2.0  \n",
       "4                                         0     400.000000                 0.0  \n",
       "...                                     ...            ...                 ...  \n",
       "45058                                     0    3000.000000                 1.0  \n",
       "45059                                     0       0.000000                 5.0  \n",
       "45060                                     0    3000.000000                 2.0  \n",
       "45061                                     0   11720.000000                 5.0  \n",
       "45062                                     0    9120.000000                 2.0  \n",
       "\n",
       "[45063 rows x 8 columns]"
      ]
     },
     "execution_count": 59,
     "metadata": {},
     "output_type": "execute_result"
    }
   ],
   "source": [
    "ds"
   ]
  },
  {
   "cell_type": "code",
   "execution_count": null,
   "id": "85bff23f",
   "metadata": {},
   "outputs": [],
   "source": []
  }
 ],
 "metadata": {
  "kernelspec": {
   "display_name": "Python 3",
   "language": "python",
   "name": "python3"
  },
  "language_info": {
   "codemirror_mode": {
    "name": "ipython",
    "version": 3
   },
   "file_extension": ".py",
   "mimetype": "text/x-python",
   "name": "python",
   "nbconvert_exporter": "python",
   "pygments_lexer": "ipython3",
   "version": "3.8.8"
  }
 },
 "nbformat": 4,
 "nbformat_minor": 5
}
